{
 "cells": [
  {
   "cell_type": "code",
   "execution_count": 47,
   "metadata": {
    "collapsed": true,
    "ExecuteTime": {
     "end_time": "2023-10-09T01:40:55.962310100Z",
     "start_time": "2023-10-09T01:40:55.942289300Z"
    }
   },
   "outputs": [
    {
     "name": "stdout",
     "output_type": "stream",
     "text": [
      "0.9990889488055994\n"
     ]
    }
   ],
   "source": [
    "import numpy as np\n",
    "\n",
    "\n",
    "def sigmodi(x):\n",
    "    return 1 / (1 + np.exp(-x))\n",
    "\n",
    "\n",
    "class Neuron:\n",
    "    def __init__(self, weights, bias):\n",
    "        self.weights = weights\n",
    "        self.bias = bias\n",
    "\n",
    "    # 前馈函数\n",
    "    def feedforward(self, inputs):\n",
    "        total = np.dot(inputs, self.weights) + self.bias\n",
    "        return sigmodi(total)\n",
    "\n",
    "\n",
    "weights = np.array([0, 1])\n",
    "bias = 4\n",
    "x = np.array([2, 3])\n",
    "n = Neuron(weights=weights, bias=bias)\n",
    "\n",
    "print(n.feedforward(x))"
   ]
  },
  {
   "cell_type": "code",
   "execution_count": 48,
   "outputs": [
    {
     "name": "stdout",
     "output_type": "stream",
     "text": [
      "0.7216325609518421\n"
     ]
    }
   ],
   "source": [
    "class CustomNeuron:\n",
    "    def __init__(self):\n",
    "        weights = np.array([0, 1])\n",
    "        bias = 0\n",
    "        # 这里的 Neuron 类是上一节的代码里定义的\n",
    "        self.h1 = Neuron(weights, bias)\n",
    "        self.h2 = Neuron(weights, bias)\n",
    "        self.o1 = Neuron(weights, bias)\n",
    "\n",
    "    def feedforward(self, x):\n",
    "        out_h1 = self.h1.feedforward(x)\n",
    "        out_h2 = self.h2.feedforward(x)\n",
    "\n",
    "        out_o1 = self.o1.feedforward(np.array([out_h1, out_h2]))\n",
    "        return out_o1\n",
    "\n",
    "\n",
    "network = CustomNeuron()\n",
    "x = np.array([2, 3])\n",
    "print(network.feedforward(x))  # 0.7216325609518421"
   ],
   "metadata": {
    "collapsed": false,
    "ExecuteTime": {
     "end_time": "2023-10-09T01:40:55.975826300Z",
     "start_time": "2023-10-09T01:40:55.953800600Z"
    }
   }
  },
  {
   "cell_type": "code",
   "execution_count": 49,
   "outputs": [],
   "source": [
    "info_data = [\n",
    "    ['Alice', 133, 65, 0],\n",
    "    ['Bob', 160, 72, 1],\n",
    "    ['Charlie', 152, 70, 1],\n",
    "    ['Diana', 120, 60, 0],\n",
    "]"
   ],
   "metadata": {
    "collapsed": false,
    "ExecuteTime": {
     "end_time": "2023-10-09T01:40:55.995885100Z",
     "start_time": "2023-10-09T01:40:55.966821500Z"
    }
   }
  },
  {
   "cell_type": "code",
   "execution_count": 50,
   "outputs": [
    {
     "data": {
      "text/plain": "array([0.41666667, 1.        , 0.83333333, 0.        ])"
     },
     "execution_count": 50,
     "metadata": {},
     "output_type": "execute_result"
    }
   ],
   "source": [
    "info_data = np.array(info_data)\n",
    "weight = info_data[:, 1].astype(float)\n",
    "height = info_data[:, 2].astype(float)\n",
    "\n",
    "\n",
    "def maximal_normalization(x):\n",
    "    return (x - np.min(x)) / (np.max(x) - np.min(x))  # 最值归一化\n",
    "\n",
    "\n",
    "x1 = maximal_normalization(weight)\n",
    "x2 = maximal_normalization(height)"
   ],
   "metadata": {
    "collapsed": false,
    "ExecuteTime": {
     "end_time": "2023-10-09T01:40:55.997421300Z",
     "start_time": "2023-10-09T01:40:55.985346300Z"
    }
   }
  },
  {
   "cell_type": "code",
   "execution_count": 50,
   "outputs": [],
   "source": [
    "w = np.array([1,1])\n",
    "x = np.array([x1,x2])\n",
    "\n",
    "class Neuron:\n"
   ],
   "metadata": {
    "collapsed": false,
    "ExecuteTime": {
     "end_time": "2023-10-09T01:40:56.020224300Z",
     "start_time": "2023-10-09T01:40:55.997944700Z"
    }
   }
  },
  {
   "cell_type": "code",
   "execution_count": 50,
   "outputs": [],
   "source": [],
   "metadata": {
    "collapsed": false,
    "ExecuteTime": {
     "end_time": "2023-10-09T01:40:56.054778800Z",
     "start_time": "2023-10-09T01:40:56.013229300Z"
    }
   }
  },
  {
   "cell_type": "code",
   "execution_count": 50,
   "outputs": [],
   "source": [],
   "metadata": {
    "collapsed": false,
    "ExecuteTime": {
     "end_time": "2023-10-09T01:40:56.085731200Z",
     "start_time": "2023-10-09T01:40:56.028230200Z"
    }
   }
  },
  {
   "cell_type": "code",
   "execution_count": 50,
   "outputs": [],
   "source": [],
   "metadata": {
    "collapsed": false,
    "ExecuteTime": {
     "end_time": "2023-10-09T01:40:56.116063700Z",
     "start_time": "2023-10-09T01:40:56.054778800Z"
    }
   }
  },
  {
   "cell_type": "code",
   "execution_count": 50,
   "outputs": [],
   "source": [],
   "metadata": {
    "collapsed": false,
    "ExecuteTime": {
     "end_time": "2023-10-09T01:40:56.116063700Z",
     "start_time": "2023-10-09T01:40:56.059813800Z"
    }
   }
  }
 ],
 "metadata": {
  "kernelspec": {
   "display_name": "Python 3",
   "language": "python",
   "name": "python3"
  },
  "language_info": {
   "codemirror_mode": {
    "name": "ipython",
    "version": 2
   },
   "file_extension": ".py",
   "mimetype": "text/x-python",
   "name": "python",
   "nbconvert_exporter": "python",
   "pygments_lexer": "ipython2",
   "version": "2.7.6"
  }
 },
 "nbformat": 4,
 "nbformat_minor": 0
}
