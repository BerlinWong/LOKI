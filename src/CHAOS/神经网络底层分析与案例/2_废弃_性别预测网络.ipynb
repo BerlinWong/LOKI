{
 "cells": [
  {
   "cell_type": "code",
   "execution_count": 1,
   "outputs": [],
   "source": [
    "import numpy as np\n",
    "from matplotlib import pyplot as plt"
   ],
   "metadata": {
    "collapsed": false,
    "ExecuteTime": {
     "end_time": "2023-10-13T03:24:29.320720600Z",
     "start_time": "2023-10-13T03:24:28.441052900Z"
    }
   }
  },
  {
   "cell_type": "code",
   "execution_count": 2,
   "outputs": [],
   "source": [
    "info_data = [\n",
    "    ['Alice', 133, 65, 0],\n",
    "    ['Bob', 160, 72, 1],\n",
    "    ['Charlie', 152, 70, 1],\n",
    "    ['Diana', 120, 60, 0],\n",
    "]"
   ],
   "metadata": {
    "collapsed": false,
    "ExecuteTime": {
     "end_time": "2023-10-13T03:24:29.335822600Z",
     "start_time": "2023-10-13T03:24:29.321730Z"
    }
   }
  },
  {
   "cell_type": "code",
   "execution_count": 3,
   "outputs": [],
   "source": [
    "info_data = np.array(info_data)\n",
    "weight = info_data[:, 1].astype(float)\n",
    "height = info_data[:, 2].astype(float)\n",
    "\n",
    "\n",
    "def maximal_normalization(x):\n",
    "    return (x - np.min(x)) / (np.max(x) - np.min(x))  # 最值归一化\n",
    "\n",
    "\n",
    "x1 = maximal_normalization(weight)\n",
    "x2 = maximal_normalization(height)"
   ],
   "metadata": {
    "collapsed": false,
    "ExecuteTime": {
     "end_time": "2023-10-13T03:24:29.366446800Z",
     "start_time": "2023-10-13T03:24:29.340337100Z"
    }
   }
  },
  {
   "cell_type": "code",
   "execution_count": 4,
   "outputs": [
    {
     "data": {
      "text/plain": "array([0.79490029, 0.8534092 , 0.84200885, 0.73105858])"
     },
     "execution_count": 4,
     "metadata": {},
     "output_type": "execute_result"
    }
   ],
   "source": [
    "weights = np.array([1, 1])\n",
    "x = np.array([x1, x2])\n",
    "\n",
    "# 单个神经网络\n",
    "def sigmoid(x):\n",
    "    return 1 / (1 + np.exp(-x))\n",
    "\n",
    "\n",
    "class Neuron:\n",
    "    def __init__(self, weights, bias):\n",
    "        self.weights = weights\n",
    "        self.bias = bias\n",
    "\n",
    "    def feedforward(self, input):\n",
    "        total = np.dot(self.weights, input) + self.bias\n",
    "        return sigmoid(total)\n",
    "\n",
    "\n",
    "class PredictiveNeuralNetworks:\n",
    "    def __init__(self):\n",
    "        self.weights = weights\n",
    "        bias = 0\n",
    "        self.h1 = Neuron(weights, bias)\n",
    "        self.h2 = Neuron(weights, bias)\n",
    "        self.o1 = Neuron(weights, bias)\n",
    "\n",
    "    def feedforward(self, x):\n",
    "        h1_out = self.h1.feedforward(x)\n",
    "        h2_out = self.h2.feedforward(x)\n",
    "        o1_out = self.o1.feedforward(np.array([h1_out,h2_out]))\n",
    "        return o1_out\n",
    "\n",
    "\n",
    "pre_net = PredictiveNeuralNetworks()\n",
    "pre_net.feedforward(x)\n"
   ],
   "metadata": {
    "collapsed": false,
    "ExecuteTime": {
     "end_time": "2023-10-13T03:24:29.384449300Z",
     "start_time": "2023-10-13T03:24:29.359450100Z"
    }
   }
  },
  {
   "cell_type": "code",
   "execution_count": 4,
   "outputs": [],
   "source": [],
   "metadata": {
    "collapsed": false,
    "ExecuteTime": {
     "end_time": "2023-10-13T03:24:29.412475700Z",
     "start_time": "2023-10-13T03:24:29.385447100Z"
    }
   }
  }
 ],
 "metadata": {
  "kernelspec": {
   "display_name": "Python 3",
   "language": "python",
   "name": "python3"
  },
  "language_info": {
   "codemirror_mode": {
    "name": "ipython",
    "version": 2
   },
   "file_extension": ".py",
   "mimetype": "text/x-python",
   "name": "python",
   "nbconvert_exporter": "python",
   "pygments_lexer": "ipython2",
   "version": "2.7.6"
  }
 },
 "nbformat": 4,
 "nbformat_minor": 0
}
