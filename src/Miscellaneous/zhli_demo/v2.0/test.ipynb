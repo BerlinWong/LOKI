{
 "cells": [
  {
   "cell_type": "code",
   "execution_count": 1,
   "metadata": {
    "ExecuteTime": {
     "end_time": "2023-10-17T07:01:56.124249700Z",
     "start_time": "2023-10-17T07:01:56.078980900Z"
    }
   },
   "outputs": [
    {
     "data": {
      "text/plain": "              taget               date        day  times     open     high  \\\n0      202306010931   2023/06/01 09:31   2023/6/1   9:31  2487.76  2494.93   \n1      202306010932   2023/06/01 09:32   2023/6/1   9:32  2491.79  2493.25   \n2      202306010933   2023/06/01 09:33   2023/6/1   9:33  2492.78  2497.77   \n3      202306010934   2023/06/01 09:34   2023/6/1   9:34  2496.29  2499.27   \n4      202306010935   2023/06/01 09:35   2023/6/1   9:35  2499.35  2499.87   \n...             ...                ...        ...    ...      ...      ...   \n15355  202308311456   2023/08/31 14:56  2023/8/31  14:56  2511.03  2511.86   \n15356  202308311457   2023/08/31 14:57  2023/8/31  14:57  2511.56  2511.82   \n15357  202308311458   2023/08/31 14:58  2023/8/31  14:58  2511.18  2511.36   \n15358  202308311459   2023/08/31 14:59  2023/8/31  14:59  2511.22  2511.22   \n15359  202308311500   2023/08/31 15:00  2023/8/31  15:00  2510.93  2510.93   \n\n           low    close  volume  \n0      2487.76  2491.63  143942  \n1      2490.96  2492.88   62464  \n2      2492.78  2495.94   59204  \n3      2496.29  2499.27   53532  \n4      2496.87  2499.52   50619  \n...        ...      ...     ...  \n15355  2510.86  2511.51   32344  \n15356  2510.76  2510.93   29468  \n15357  2511.18  2511.22    1428  \n15358  2511.22  2511.22       0  \n15359  2510.46  2510.46  233304  \n\n[15360 rows x 9 columns]",
      "text/html": "<div>\n<style scoped>\n    .dataframe tbody tr th:only-of-type {\n        vertical-align: middle;\n    }\n\n    .dataframe tbody tr th {\n        vertical-align: top;\n    }\n\n    .dataframe thead th {\n        text-align: right;\n    }\n</style>\n<table border=\"1\" class=\"dataframe\">\n  <thead>\n    <tr style=\"text-align: right;\">\n      <th></th>\n      <th>taget</th>\n      <th>date</th>\n      <th>day</th>\n      <th>times</th>\n      <th>open</th>\n      <th>high</th>\n      <th>low</th>\n      <th>close</th>\n      <th>volume</th>\n    </tr>\n  </thead>\n  <tbody>\n    <tr>\n      <th>0</th>\n      <td>202306010931</td>\n      <td>2023/06/01 09:31</td>\n      <td>2023/6/1</td>\n      <td>9:31</td>\n      <td>2487.76</td>\n      <td>2494.93</td>\n      <td>2487.76</td>\n      <td>2491.63</td>\n      <td>143942</td>\n    </tr>\n    <tr>\n      <th>1</th>\n      <td>202306010932</td>\n      <td>2023/06/01 09:32</td>\n      <td>2023/6/1</td>\n      <td>9:32</td>\n      <td>2491.79</td>\n      <td>2493.25</td>\n      <td>2490.96</td>\n      <td>2492.88</td>\n      <td>62464</td>\n    </tr>\n    <tr>\n      <th>2</th>\n      <td>202306010933</td>\n      <td>2023/06/01 09:33</td>\n      <td>2023/6/1</td>\n      <td>9:33</td>\n      <td>2492.78</td>\n      <td>2497.77</td>\n      <td>2492.78</td>\n      <td>2495.94</td>\n      <td>59204</td>\n    </tr>\n    <tr>\n      <th>3</th>\n      <td>202306010934</td>\n      <td>2023/06/01 09:34</td>\n      <td>2023/6/1</td>\n      <td>9:34</td>\n      <td>2496.29</td>\n      <td>2499.27</td>\n      <td>2496.29</td>\n      <td>2499.27</td>\n      <td>53532</td>\n    </tr>\n    <tr>\n      <th>4</th>\n      <td>202306010935</td>\n      <td>2023/06/01 09:35</td>\n      <td>2023/6/1</td>\n      <td>9:35</td>\n      <td>2499.35</td>\n      <td>2499.87</td>\n      <td>2496.87</td>\n      <td>2499.52</td>\n      <td>50619</td>\n    </tr>\n    <tr>\n      <th>...</th>\n      <td>...</td>\n      <td>...</td>\n      <td>...</td>\n      <td>...</td>\n      <td>...</td>\n      <td>...</td>\n      <td>...</td>\n      <td>...</td>\n      <td>...</td>\n    </tr>\n    <tr>\n      <th>15355</th>\n      <td>202308311456</td>\n      <td>2023/08/31 14:56</td>\n      <td>2023/8/31</td>\n      <td>14:56</td>\n      <td>2511.03</td>\n      <td>2511.86</td>\n      <td>2510.86</td>\n      <td>2511.51</td>\n      <td>32344</td>\n    </tr>\n    <tr>\n      <th>15356</th>\n      <td>202308311457</td>\n      <td>2023/08/31 14:57</td>\n      <td>2023/8/31</td>\n      <td>14:57</td>\n      <td>2511.56</td>\n      <td>2511.82</td>\n      <td>2510.76</td>\n      <td>2510.93</td>\n      <td>29468</td>\n    </tr>\n    <tr>\n      <th>15357</th>\n      <td>202308311458</td>\n      <td>2023/08/31 14:58</td>\n      <td>2023/8/31</td>\n      <td>14:58</td>\n      <td>2511.18</td>\n      <td>2511.36</td>\n      <td>2511.18</td>\n      <td>2511.22</td>\n      <td>1428</td>\n    </tr>\n    <tr>\n      <th>15358</th>\n      <td>202308311459</td>\n      <td>2023/08/31 14:59</td>\n      <td>2023/8/31</td>\n      <td>14:59</td>\n      <td>2511.22</td>\n      <td>2511.22</td>\n      <td>2511.22</td>\n      <td>2511.22</td>\n      <td>0</td>\n    </tr>\n    <tr>\n      <th>15359</th>\n      <td>202308311500</td>\n      <td>2023/08/31 15:00</td>\n      <td>2023/8/31</td>\n      <td>15:00</td>\n      <td>2510.93</td>\n      <td>2510.93</td>\n      <td>2510.46</td>\n      <td>2510.46</td>\n      <td>233304</td>\n    </tr>\n  </tbody>\n</table>\n<p>15360 rows × 9 columns</p>\n</div>"
     },
     "execution_count": 1,
     "metadata": {},
     "output_type": "execute_result"
    }
   ],
   "source": [
    "import pandas as pd\n",
    "\n",
    "data = pd.read_csv('../../../data/000016_6_8_m1.csv')\n",
    "data\n"
   ]
  }
 ],
 "metadata": {
  "kernelspec": {
   "display_name": "torchlstm",
   "language": "python",
   "name": "python3"
  },
  "language_info": {
   "codemirror_mode": {
    "name": "ipython",
    "version": 3
   },
   "file_extension": ".py",
   "mimetype": "text/x-python",
   "name": "python",
   "nbconvert_exporter": "python",
   "pygments_lexer": "ipython3",
   "version": "3.9.17"
  }
 },
 "nbformat": 4,
 "nbformat_minor": 2
}
